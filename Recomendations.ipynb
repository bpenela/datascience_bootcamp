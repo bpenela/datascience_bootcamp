{
 "cells": [
  {
   "cell_type": "code",
   "execution_count": 1,
   "id": "baa5566d",
   "metadata": {},
   "outputs": [],
   "source": [
    "import pandas as pd"
   ]
  },
  {
   "cell_type": "code",
   "execution_count": 3,
   "id": "ccb540b1",
   "metadata": {},
   "outputs": [
    {
     "name": "stderr",
     "output_type": "stream",
     "text": [
      "C:\\Users\\Bruno Penela\\anaconda3\\lib\\site-packages\\IPython\\core\\interactiveshell.py:3444: DtypeWarning: Columns (5) have mixed types.Specify dtype option on import or set low_memory=False.\n",
      "  exec(code_obj, self.user_global_ns, self.user_ns)\n"
     ]
    }
   ],
   "source": [
    "product_df = pd.read_csv(\"product_master.csv\")\n",
    "stock_df = pd.read_csv(\"stock.csv\")"
   ]
  },
  {
   "cell_type": "markdown",
   "id": "70401603",
   "metadata": {},
   "source": [
    "# Explorar Product DF"
   ]
  },
  {
   "cell_type": "code",
   "execution_count": 21,
   "id": "1079be6f",
   "metadata": {},
   "outputs": [
    {
     "name": "stdout",
     "output_type": "stream",
     "text": [
      "<class 'pandas.core.frame.DataFrame'>\n",
      "RangeIndex: 24693 entries, 0 to 24692\n",
      "Data columns (total 6 columns):\n",
      " #   Column               Non-Null Count  Dtype \n",
      "---  ------               --------------  ----- \n",
      " 0   bravo_ww_fran_name   24693 non-null  object\n",
      " 1   bravo_fran_name      24693 non-null  object\n",
      " 2   bravo_sub_fran_name  24693 non-null  object\n",
      " 3   bravo_major_name     24693 non-null  object\n",
      " 4   bravo_minor_name     24693 non-null  object\n",
      " 5   product_code         24693 non-null  object\n",
      "dtypes: object(6)\n",
      "memory usage: 1.1+ MB\n"
     ]
    }
   ],
   "source": [
    "product_df.info()"
   ]
  },
  {
   "cell_type": "code",
   "execution_count": 6,
   "id": "1b8711d1",
   "metadata": {},
   "outputs": [
    {
     "data": {
      "text/html": [
       "<div>\n",
       "<style scoped>\n",
       "    .dataframe tbody tr th:only-of-type {\n",
       "        vertical-align: middle;\n",
       "    }\n",
       "\n",
       "    .dataframe tbody tr th {\n",
       "        vertical-align: top;\n",
       "    }\n",
       "\n",
       "    .dataframe thead th {\n",
       "        text-align: right;\n",
       "    }\n",
       "</style>\n",
       "<table border=\"1\" class=\"dataframe\">\n",
       "  <thead>\n",
       "    <tr style=\"text-align: right;\">\n",
       "      <th></th>\n",
       "      <th>bravo_ww_fran_name</th>\n",
       "      <th>bravo_fran_name</th>\n",
       "      <th>bravo_sub_fran_name</th>\n",
       "      <th>bravo_major_name</th>\n",
       "      <th>bravo_minor_name</th>\n",
       "      <th>product_code</th>\n",
       "    </tr>\n",
       "  </thead>\n",
       "  <tbody>\n",
       "    <tr>\n",
       "      <th>0</th>\n",
       "      <td>bravo_ww_fran_name_0</td>\n",
       "      <td>bravo_fran_name_0</td>\n",
       "      <td>bravo_sub_fran_name_0</td>\n",
       "      <td>bravo_major_name_0</td>\n",
       "      <td>bravo_minor_name_0</td>\n",
       "      <td>product_code_0</td>\n",
       "    </tr>\n",
       "    <tr>\n",
       "      <th>1</th>\n",
       "      <td>bravo_ww_fran_name_1</td>\n",
       "      <td>bravo_fran_name_1</td>\n",
       "      <td>bravo_sub_fran_name_1</td>\n",
       "      <td>bravo_major_name_1</td>\n",
       "      <td>bravo_minor_name_1</td>\n",
       "      <td>product_code_1</td>\n",
       "    </tr>\n",
       "    <tr>\n",
       "      <th>2</th>\n",
       "      <td>bravo_ww_fran_name_2</td>\n",
       "      <td>bravo_fran_name_2</td>\n",
       "      <td>bravo_sub_fran_name_2</td>\n",
       "      <td>bravo_major_name_2</td>\n",
       "      <td>bravo_minor_name_2</td>\n",
       "      <td>product_code_2</td>\n",
       "    </tr>\n",
       "    <tr>\n",
       "      <th>3</th>\n",
       "      <td>bravo_ww_fran_name_2</td>\n",
       "      <td>bravo_fran_name_2</td>\n",
       "      <td>bravo_sub_fran_name_2</td>\n",
       "      <td>bravo_major_name_2</td>\n",
       "      <td>bravo_minor_name_2</td>\n",
       "      <td>product_code_3</td>\n",
       "    </tr>\n",
       "    <tr>\n",
       "      <th>4</th>\n",
       "      <td>bravo_ww_fran_name_0</td>\n",
       "      <td>bravo_fran_name_0</td>\n",
       "      <td>bravo_sub_fran_name_0</td>\n",
       "      <td>bravo_major_name_0</td>\n",
       "      <td>bravo_minor_name_0</td>\n",
       "      <td>product_code_4</td>\n",
       "    </tr>\n",
       "  </tbody>\n",
       "</table>\n",
       "</div>"
      ],
      "text/plain": [
       "     bravo_ww_fran_name    bravo_fran_name    bravo_sub_fran_name  \\\n",
       "0  bravo_ww_fran_name_0  bravo_fran_name_0  bravo_sub_fran_name_0   \n",
       "1  bravo_ww_fran_name_1  bravo_fran_name_1  bravo_sub_fran_name_1   \n",
       "2  bravo_ww_fran_name_2  bravo_fran_name_2  bravo_sub_fran_name_2   \n",
       "3  bravo_ww_fran_name_2  bravo_fran_name_2  bravo_sub_fran_name_2   \n",
       "4  bravo_ww_fran_name_0  bravo_fran_name_0  bravo_sub_fran_name_0   \n",
       "\n",
       "     bravo_major_name    bravo_minor_name    product_code  \n",
       "0  bravo_major_name_0  bravo_minor_name_0  product_code_0  \n",
       "1  bravo_major_name_1  bravo_minor_name_1  product_code_1  \n",
       "2  bravo_major_name_2  bravo_minor_name_2  product_code_2  \n",
       "3  bravo_major_name_2  bravo_minor_name_2  product_code_3  \n",
       "4  bravo_major_name_0  bravo_minor_name_0  product_code_4  "
      ]
     },
     "execution_count": 6,
     "metadata": {},
     "output_type": "execute_result"
    }
   ],
   "source": [
    "product_df.head()"
   ]
  },
  {
   "cell_type": "markdown",
   "id": "7e686f98",
   "metadata": {},
   "source": [
    "### Descrição dos campos\n",
    "\n",
    "<p> bravo_ww_fran_name – company designation for the global group <p/>\n",
    "<p> bravo_fran_name – company designation for a region of the group <p/>\n",
    "<p> bravo_sub_fran_name – company area <p/>\n",
    "<p> bravo_major_name – product family <p/>\n",
    "<p> bravo_minor_name – product sub-family <p/>\n",
    "product_code – product code"
   ]
  },
  {
   "cell_type": "code",
   "execution_count": 8,
   "id": "b5fbb49c",
   "metadata": {},
   "outputs": [
    {
     "data": {
      "text/plain": [
       "array(['bravo_ww_fran_name_0', 'bravo_ww_fran_name_1',\n",
       "       'bravo_ww_fran_name_2', 'bravo_ww_fran_name_3',\n",
       "       'bravo_ww_fran_name_4', 'bravo_ww_fran_name_5',\n",
       "       'bravo_ww_fran_name_6', 'bravo_ww_fran_name_7',\n",
       "       'bravo_ww_fran_name_8'], dtype=object)"
      ]
     },
     "execution_count": 8,
     "metadata": {},
     "output_type": "execute_result"
    }
   ],
   "source": [
    "product_df[\"bravo_ww_fran_name\"].unique()"
   ]
  },
  {
   "cell_type": "code",
   "execution_count": 9,
   "id": "f145a35d",
   "metadata": {},
   "outputs": [
    {
     "data": {
      "text/plain": [
       "array(['bravo_fran_name_0', 'bravo_fran_name_1', 'bravo_fran_name_2',\n",
       "       'bravo_fran_name_3', 'bravo_fran_name_4', 'bravo_fran_name_5',\n",
       "       'bravo_fran_name_6', 'bravo_fran_name_7', 'bravo_fran_name_8',\n",
       "       'bravo_fran_name_9', 'bravo_fran_name_10', 'bravo_fran_name_11',\n",
       "       'bravo_fran_name_12', 'bravo_fran_name_13', 'bravo_fran_name_14',\n",
       "       'bravo_fran_name_15', 'bravo_fran_name_16', 'bravo_fran_name_17',\n",
       "       'bravo_fran_name_18', 'bravo_fran_name_19', 'bravo_fran_name_20',\n",
       "       'bravo_fran_name_21', 'bravo_fran_name_22', 'bravo_fran_name_23',\n",
       "       'bravo_fran_name_24', 'bravo_fran_name_25', 'bravo_fran_name_26',\n",
       "       'bravo_fran_name_27', 'bravo_fran_name_28', 'bravo_fran_name_29',\n",
       "       'bravo_fran_name_30', 'bravo_fran_name_31'], dtype=object)"
      ]
     },
     "execution_count": 9,
     "metadata": {},
     "output_type": "execute_result"
    }
   ],
   "source": [
    "product_df[\"bravo_fran_name\"].unique()"
   ]
  },
  {
   "cell_type": "code",
   "execution_count": 10,
   "id": "98c22a81",
   "metadata": {},
   "outputs": [
    {
     "data": {
      "text/plain": [
       "array(['bravo_sub_fran_name_0', 'bravo_sub_fran_name_1',\n",
       "       'bravo_sub_fran_name_2', 'bravo_sub_fran_name_3',\n",
       "       'bravo_sub_fran_name_4', 'bravo_sub_fran_name_5',\n",
       "       'bravo_sub_fran_name_6', 'bravo_sub_fran_name_7',\n",
       "       'bravo_sub_fran_name_8', 'bravo_sub_fran_name_9',\n",
       "       'bravo_sub_fran_name_10', 'bravo_sub_fran_name_11',\n",
       "       'bravo_sub_fran_name_12', 'bravo_sub_fran_name_13',\n",
       "       'bravo_sub_fran_name_14', 'bravo_sub_fran_name_15',\n",
       "       'bravo_sub_fran_name_16', 'bravo_sub_fran_name_17',\n",
       "       'bravo_sub_fran_name_18', 'bravo_sub_fran_name_19',\n",
       "       'bravo_sub_fran_name_20', 'bravo_sub_fran_name_21',\n",
       "       'bravo_sub_fran_name_22', 'bravo_sub_fran_name_23',\n",
       "       'bravo_sub_fran_name_24', 'bravo_sub_fran_name_25',\n",
       "       'bravo_sub_fran_name_26', 'bravo_sub_fran_name_27',\n",
       "       'bravo_sub_fran_name_28', 'bravo_sub_fran_name_29',\n",
       "       'bravo_sub_fran_name_30', 'bravo_sub_fran_name_31',\n",
       "       'bravo_sub_fran_name_32', 'bravo_sub_fran_name_33',\n",
       "       'bravo_sub_fran_name_34', 'bravo_sub_fran_name_35',\n",
       "       'bravo_sub_fran_name_36', 'bravo_sub_fran_name_37',\n",
       "       'bravo_sub_fran_name_38', 'bravo_sub_fran_name_39'], dtype=object)"
      ]
     },
     "execution_count": 10,
     "metadata": {},
     "output_type": "execute_result"
    }
   ],
   "source": [
    "product_df[\"bravo_sub_fran_name\"].unique()"
   ]
  },
  {
   "cell_type": "code",
   "execution_count": 11,
   "id": "efd39af1",
   "metadata": {},
   "outputs": [
    {
     "data": {
      "text/plain": [
       "array(['bravo_major_name_0', 'bravo_major_name_1', 'bravo_major_name_2',\n",
       "       'bravo_major_name_3', 'bravo_major_name_4', 'bravo_major_name_5',\n",
       "       'bravo_major_name_6', 'bravo_major_name_7', 'bravo_major_name_8',\n",
       "       'bravo_major_name_9', 'bravo_major_name_10', 'bravo_major_name_11',\n",
       "       'bravo_major_name_12', 'bravo_major_name_13',\n",
       "       'bravo_major_name_14', 'bravo_major_name_15',\n",
       "       'bravo_major_name_16', 'bravo_major_name_17',\n",
       "       'bravo_major_name_18', 'bravo_major_name_19',\n",
       "       'bravo_major_name_20', 'bravo_major_name_21',\n",
       "       'bravo_major_name_22', 'bravo_major_name_23',\n",
       "       'bravo_major_name_24', 'bravo_major_name_25',\n",
       "       'bravo_major_name_26', 'bravo_major_name_27',\n",
       "       'bravo_major_name_28', 'bravo_major_name_29',\n",
       "       'bravo_major_name_30', 'bravo_major_name_31',\n",
       "       'bravo_major_name_32', 'bravo_major_name_33',\n",
       "       'bravo_major_name_34', 'bravo_major_name_35',\n",
       "       'bravo_major_name_36', 'bravo_major_name_37',\n",
       "       'bravo_major_name_38', 'bravo_major_name_39',\n",
       "       'bravo_major_name_40', 'bravo_major_name_41',\n",
       "       'bravo_major_name_42', 'bravo_major_name_43',\n",
       "       'bravo_major_name_44', 'bravo_major_name_45',\n",
       "       'bravo_major_name_46', 'bravo_major_name_47',\n",
       "       'bravo_major_name_48', 'bravo_major_name_49',\n",
       "       'bravo_major_name_50', 'bravo_major_name_51',\n",
       "       'bravo_major_name_52', 'bravo_major_name_53',\n",
       "       'bravo_major_name_54', 'bravo_major_name_55',\n",
       "       'bravo_major_name_56', 'bravo_major_name_57',\n",
       "       'bravo_major_name_58', 'bravo_major_name_59',\n",
       "       'bravo_major_name_60', 'bravo_major_name_61',\n",
       "       'bravo_major_name_62', 'bravo_major_name_63',\n",
       "       'bravo_major_name_64', 'bravo_major_name_65',\n",
       "       'bravo_major_name_66', 'bravo_major_name_67',\n",
       "       'bravo_major_name_68', 'bravo_major_name_69',\n",
       "       'bravo_major_name_70', 'bravo_major_name_71',\n",
       "       'bravo_major_name_72', 'bravo_major_name_73',\n",
       "       'bravo_major_name_74', 'bravo_major_name_75',\n",
       "       'bravo_major_name_76', 'bravo_major_name_77',\n",
       "       'bravo_major_name_78', 'bravo_major_name_79',\n",
       "       'bravo_major_name_80', 'bravo_major_name_81',\n",
       "       'bravo_major_name_82', 'bravo_major_name_83',\n",
       "       'bravo_major_name_84', 'bravo_major_name_85',\n",
       "       'bravo_major_name_86', 'bravo_major_name_87',\n",
       "       'bravo_major_name_88', 'bravo_major_name_89',\n",
       "       'bravo_major_name_90', 'bravo_major_name_91',\n",
       "       'bravo_major_name_92', 'bravo_major_name_93',\n",
       "       'bravo_major_name_94', 'bravo_major_name_95',\n",
       "       'bravo_major_name_96', 'bravo_major_name_97',\n",
       "       'bravo_major_name_98', 'bravo_major_name_99',\n",
       "       'bravo_major_name_100', 'bravo_major_name_101',\n",
       "       'bravo_major_name_102', 'bravo_major_name_103',\n",
       "       'bravo_major_name_104', 'bravo_major_name_105',\n",
       "       'bravo_major_name_106', 'bravo_major_name_107',\n",
       "       'bravo_major_name_108', 'bravo_major_name_109',\n",
       "       'bravo_major_name_110'], dtype=object)"
      ]
     },
     "execution_count": 11,
     "metadata": {},
     "output_type": "execute_result"
    }
   ],
   "source": [
    "product_df[\"bravo_major_name\"].unique()"
   ]
  },
  {
   "cell_type": "code",
   "execution_count": 12,
   "id": "76031199",
   "metadata": {},
   "outputs": [
    {
     "data": {
      "text/plain": [
       "array(['bravo_minor_name_0', 'bravo_minor_name_1', 'bravo_minor_name_2',\n",
       "       'bravo_minor_name_3', 'bravo_minor_name_4', 'bravo_minor_name_5',\n",
       "       'bravo_minor_name_6', 'bravo_minor_name_7', 'bravo_minor_name_8',\n",
       "       'bravo_minor_name_9', 'bravo_minor_name_10', 'bravo_minor_name_11',\n",
       "       'bravo_minor_name_12', 'bravo_minor_name_13',\n",
       "       'bravo_minor_name_14', 'bravo_minor_name_15',\n",
       "       'bravo_minor_name_16', 'bravo_minor_name_17',\n",
       "       'bravo_minor_name_18', 'bravo_minor_name_19',\n",
       "       'bravo_minor_name_20', 'bravo_minor_name_21',\n",
       "       'bravo_minor_name_22', 'bravo_minor_name_23',\n",
       "       'bravo_minor_name_24', 'bravo_minor_name_25',\n",
       "       'bravo_minor_name_26', 'bravo_minor_name_27',\n",
       "       'bravo_minor_name_28', 'bravo_minor_name_29',\n",
       "       'bravo_minor_name_30', 'bravo_minor_name_31',\n",
       "       'bravo_minor_name_32', 'bravo_minor_name_33',\n",
       "       'bravo_minor_name_34', 'bravo_minor_name_35',\n",
       "       'bravo_minor_name_36', 'bravo_minor_name_37',\n",
       "       'bravo_minor_name_38', 'bravo_minor_name_39',\n",
       "       'bravo_minor_name_40', 'bravo_minor_name_41',\n",
       "       'bravo_minor_name_42', 'bravo_minor_name_43',\n",
       "       'bravo_minor_name_44', 'bravo_minor_name_45',\n",
       "       'bravo_minor_name_46', 'bravo_minor_name_47',\n",
       "       'bravo_minor_name_48', 'bravo_minor_name_49',\n",
       "       'bravo_minor_name_50', 'bravo_minor_name_51',\n",
       "       'bravo_minor_name_52', 'bravo_minor_name_53',\n",
       "       'bravo_minor_name_54', 'bravo_minor_name_55',\n",
       "       'bravo_minor_name_56', 'bravo_minor_name_57',\n",
       "       'bravo_minor_name_58', 'bravo_minor_name_59',\n",
       "       'bravo_minor_name_60', 'bravo_minor_name_61',\n",
       "       'bravo_minor_name_62', 'bravo_minor_name_63',\n",
       "       'bravo_minor_name_64', 'bravo_minor_name_65',\n",
       "       'bravo_minor_name_66', 'bravo_minor_name_67',\n",
       "       'bravo_minor_name_68', 'bravo_minor_name_69',\n",
       "       'bravo_minor_name_70', 'bravo_minor_name_71',\n",
       "       'bravo_minor_name_72', 'bravo_minor_name_73',\n",
       "       'bravo_minor_name_74', 'bravo_minor_name_75',\n",
       "       'bravo_minor_name_76', 'bravo_minor_name_77',\n",
       "       'bravo_minor_name_78', 'bravo_minor_name_79',\n",
       "       'bravo_minor_name_80', 'bravo_minor_name_81',\n",
       "       'bravo_minor_name_82', 'bravo_minor_name_83',\n",
       "       'bravo_minor_name_84', 'bravo_minor_name_85',\n",
       "       'bravo_minor_name_86', 'bravo_minor_name_87',\n",
       "       'bravo_minor_name_88', 'bravo_minor_name_89',\n",
       "       'bravo_minor_name_90', 'bravo_minor_name_91',\n",
       "       'bravo_minor_name_92', 'bravo_minor_name_93',\n",
       "       'bravo_minor_name_94', 'bravo_minor_name_95',\n",
       "       'bravo_minor_name_96', 'bravo_minor_name_97',\n",
       "       'bravo_minor_name_98', 'bravo_minor_name_99',\n",
       "       'bravo_minor_name_100', 'bravo_minor_name_101',\n",
       "       'bravo_minor_name_102', 'bravo_minor_name_103',\n",
       "       'bravo_minor_name_104', 'bravo_minor_name_105',\n",
       "       'bravo_minor_name_106', 'bravo_minor_name_107',\n",
       "       'bravo_minor_name_108', 'bravo_minor_name_109',\n",
       "       'bravo_minor_name_110', 'bravo_minor_name_111',\n",
       "       'bravo_minor_name_112', 'bravo_minor_name_113',\n",
       "       'bravo_minor_name_114', 'bravo_minor_name_115',\n",
       "       'bravo_minor_name_116', 'bravo_minor_name_117',\n",
       "       'bravo_minor_name_118', 'bravo_minor_name_119',\n",
       "       'bravo_minor_name_120', 'bravo_minor_name_121',\n",
       "       'bravo_minor_name_122', 'bravo_minor_name_123',\n",
       "       'bravo_minor_name_124', 'bravo_minor_name_125',\n",
       "       'bravo_minor_name_126', 'bravo_minor_name_127',\n",
       "       'bravo_minor_name_128', 'bravo_minor_name_129',\n",
       "       'bravo_minor_name_130', 'bravo_minor_name_131',\n",
       "       'bravo_minor_name_132', 'bravo_minor_name_133',\n",
       "       'bravo_minor_name_134', 'bravo_minor_name_135',\n",
       "       'bravo_minor_name_136', 'bravo_minor_name_137',\n",
       "       'bravo_minor_name_138', 'bravo_minor_name_139',\n",
       "       'bravo_minor_name_140', 'bravo_minor_name_141',\n",
       "       'bravo_minor_name_142', 'bravo_minor_name_143',\n",
       "       'bravo_minor_name_144', 'bravo_minor_name_145',\n",
       "       'bravo_minor_name_146', 'bravo_minor_name_147',\n",
       "       'bravo_minor_name_148', 'bravo_minor_name_149',\n",
       "       'bravo_minor_name_150', 'bravo_minor_name_151',\n",
       "       'bravo_minor_name_152', 'bravo_minor_name_153',\n",
       "       'bravo_minor_name_154', 'bravo_minor_name_155',\n",
       "       'bravo_minor_name_156', 'bravo_minor_name_157',\n",
       "       'bravo_minor_name_158', 'bravo_minor_name_159',\n",
       "       'bravo_minor_name_160', 'bravo_minor_name_161',\n",
       "       'bravo_minor_name_162', 'bravo_minor_name_163',\n",
       "       'bravo_minor_name_164', 'bravo_minor_name_165',\n",
       "       'bravo_minor_name_166', 'bravo_minor_name_167',\n",
       "       'bravo_minor_name_168', 'bravo_minor_name_169',\n",
       "       'bravo_minor_name_170', 'bravo_minor_name_171',\n",
       "       'bravo_minor_name_172', 'bravo_minor_name_173',\n",
       "       'bravo_minor_name_174', 'bravo_minor_name_175',\n",
       "       'bravo_minor_name_176', 'bravo_minor_name_177',\n",
       "       'bravo_minor_name_178', 'bravo_minor_name_179',\n",
       "       'bravo_minor_name_180', 'bravo_minor_name_181',\n",
       "       'bravo_minor_name_182', 'bravo_minor_name_183',\n",
       "       'bravo_minor_name_184', 'bravo_minor_name_185',\n",
       "       'bravo_minor_name_186', 'bravo_minor_name_187',\n",
       "       'bravo_minor_name_188', 'bravo_minor_name_189',\n",
       "       'bravo_minor_name_190', 'bravo_minor_name_191',\n",
       "       'bravo_minor_name_192', 'bravo_minor_name_193',\n",
       "       'bravo_minor_name_194', 'bravo_minor_name_195',\n",
       "       'bravo_minor_name_196', 'bravo_minor_name_197',\n",
       "       'bravo_minor_name_198', 'bravo_minor_name_199',\n",
       "       'bravo_minor_name_200', 'bravo_minor_name_201',\n",
       "       'bravo_minor_name_202', 'bravo_minor_name_203',\n",
       "       'bravo_minor_name_204', 'bravo_minor_name_205',\n",
       "       'bravo_minor_name_206', 'bravo_minor_name_207',\n",
       "       'bravo_minor_name_208', 'bravo_minor_name_209',\n",
       "       'bravo_minor_name_210', 'bravo_minor_name_211',\n",
       "       'bravo_minor_name_212', 'bravo_minor_name_213',\n",
       "       'bravo_minor_name_214', 'bravo_minor_name_215',\n",
       "       'bravo_minor_name_216', 'bravo_minor_name_217',\n",
       "       'bravo_minor_name_218', 'bravo_minor_name_219',\n",
       "       'bravo_minor_name_220', 'bravo_minor_name_221',\n",
       "       'bravo_minor_name_222', 'bravo_minor_name_223',\n",
       "       'bravo_minor_name_224', 'bravo_minor_name_225',\n",
       "       'bravo_minor_name_226', 'bravo_minor_name_227',\n",
       "       'bravo_minor_name_228', 'bravo_minor_name_229',\n",
       "       'bravo_minor_name_230', 'bravo_minor_name_231',\n",
       "       'bravo_minor_name_232', 'bravo_minor_name_233',\n",
       "       'bravo_minor_name_234', 'bravo_minor_name_235',\n",
       "       'bravo_minor_name_236', 'bravo_minor_name_237',\n",
       "       'bravo_minor_name_238', 'bravo_minor_name_239',\n",
       "       'bravo_minor_name_240', 'bravo_minor_name_241',\n",
       "       'bravo_minor_name_242', 'bravo_minor_name_243',\n",
       "       'bravo_minor_name_244', 'bravo_minor_name_245',\n",
       "       'bravo_minor_name_246', 'bravo_minor_name_247',\n",
       "       'bravo_minor_name_248', 'bravo_minor_name_249',\n",
       "       'bravo_minor_name_250', 'bravo_minor_name_251',\n",
       "       'bravo_minor_name_252', 'bravo_minor_name_253',\n",
       "       'bravo_minor_name_254', 'bravo_minor_name_255',\n",
       "       'bravo_minor_name_256', 'bravo_minor_name_257',\n",
       "       'bravo_minor_name_258', 'bravo_minor_name_259',\n",
       "       'bravo_minor_name_260', 'bravo_minor_name_261',\n",
       "       'bravo_minor_name_262', 'bravo_minor_name_263',\n",
       "       'bravo_minor_name_264', 'bravo_minor_name_265',\n",
       "       'bravo_minor_name_266', 'bravo_minor_name_267',\n",
       "       'bravo_minor_name_268', 'bravo_minor_name_269',\n",
       "       'bravo_minor_name_270', 'bravo_minor_name_271',\n",
       "       'bravo_minor_name_272', 'bravo_minor_name_273',\n",
       "       'bravo_minor_name_274', 'bravo_minor_name_275',\n",
       "       'bravo_minor_name_276', 'bravo_minor_name_277',\n",
       "       'bravo_minor_name_278', 'bravo_minor_name_279',\n",
       "       'bravo_minor_name_280', 'bravo_minor_name_281',\n",
       "       'bravo_minor_name_282', 'bravo_minor_name_283',\n",
       "       'bravo_minor_name_284', 'bravo_minor_name_285',\n",
       "       'bravo_minor_name_286', 'bravo_minor_name_287',\n",
       "       'bravo_minor_name_288', 'bravo_minor_name_289',\n",
       "       'bravo_minor_name_290', 'bravo_minor_name_291',\n",
       "       'bravo_minor_name_292', 'bravo_minor_name_293',\n",
       "       'bravo_minor_name_294', 'bravo_minor_name_295',\n",
       "       'bravo_minor_name_296', 'bravo_minor_name_297',\n",
       "       'bravo_minor_name_298', 'bravo_minor_name_299',\n",
       "       'bravo_minor_name_300', 'bravo_minor_name_301',\n",
       "       'bravo_minor_name_302', 'bravo_minor_name_303',\n",
       "       'bravo_minor_name_304', 'bravo_minor_name_305',\n",
       "       'bravo_minor_name_306', 'bravo_minor_name_307',\n",
       "       'bravo_minor_name_308', 'bravo_minor_name_309',\n",
       "       'bravo_minor_name_310', 'bravo_minor_name_311',\n",
       "       'bravo_minor_name_312', 'bravo_minor_name_313',\n",
       "       'bravo_minor_name_314', 'bravo_minor_name_315',\n",
       "       'bravo_minor_name_316', 'bravo_minor_name_317',\n",
       "       'bravo_minor_name_318', 'bravo_minor_name_319',\n",
       "       'bravo_minor_name_320', 'bravo_minor_name_321',\n",
       "       'bravo_minor_name_322', 'bravo_minor_name_323',\n",
       "       'bravo_minor_name_324', 'bravo_minor_name_325',\n",
       "       'bravo_minor_name_326', 'bravo_minor_name_327',\n",
       "       'bravo_minor_name_328', 'bravo_minor_name_329',\n",
       "       'bravo_minor_name_330', 'bravo_minor_name_331',\n",
       "       'bravo_minor_name_332', 'bravo_minor_name_333',\n",
       "       'bravo_minor_name_334', 'bravo_minor_name_335',\n",
       "       'bravo_minor_name_336', 'bravo_minor_name_337',\n",
       "       'bravo_minor_name_338', 'bravo_minor_name_339',\n",
       "       'bravo_minor_name_340', 'bravo_minor_name_341',\n",
       "       'bravo_minor_name_342', 'bravo_minor_name_343',\n",
       "       'bravo_minor_name_344', 'bravo_minor_name_345',\n",
       "       'bravo_minor_name_346', 'bravo_minor_name_347',\n",
       "       'bravo_minor_name_348', 'bravo_minor_name_349',\n",
       "       'bravo_minor_name_350', 'bravo_minor_name_351',\n",
       "       'bravo_minor_name_352', 'bravo_minor_name_353',\n",
       "       'bravo_minor_name_354', 'bravo_minor_name_355',\n",
       "       'bravo_minor_name_356', 'bravo_minor_name_357',\n",
       "       'bravo_minor_name_358', 'bravo_minor_name_359',\n",
       "       'bravo_minor_name_360', 'bravo_minor_name_361',\n",
       "       'bravo_minor_name_362', 'bravo_minor_name_363',\n",
       "       'bravo_minor_name_364', 'bravo_minor_name_365',\n",
       "       'bravo_minor_name_366', 'bravo_minor_name_367',\n",
       "       'bravo_minor_name_368', 'bravo_minor_name_369',\n",
       "       'bravo_minor_name_370', 'bravo_minor_name_371',\n",
       "       'bravo_minor_name_372', 'bravo_minor_name_373',\n",
       "       'bravo_minor_name_374', 'bravo_minor_name_375',\n",
       "       'bravo_minor_name_376', 'bravo_minor_name_377',\n",
       "       'bravo_minor_name_378', 'bravo_minor_name_379',\n",
       "       'bravo_minor_name_380', 'bravo_minor_name_381',\n",
       "       'bravo_minor_name_382', 'bravo_minor_name_383',\n",
       "       'bravo_minor_name_384', 'bravo_minor_name_385',\n",
       "       'bravo_minor_name_386', 'bravo_minor_name_387',\n",
       "       'bravo_minor_name_388', 'bravo_minor_name_389',\n",
       "       'bravo_minor_name_390', 'bravo_minor_name_391',\n",
       "       'bravo_minor_name_392', 'bravo_minor_name_393',\n",
       "       'bravo_minor_name_394', 'bravo_minor_name_395',\n",
       "       'bravo_minor_name_396', 'bravo_minor_name_397',\n",
       "       'bravo_minor_name_398', 'bravo_minor_name_399',\n",
       "       'bravo_minor_name_400', 'bravo_minor_name_401',\n",
       "       'bravo_minor_name_402', 'bravo_minor_name_403',\n",
       "       'bravo_minor_name_404', 'bravo_minor_name_405',\n",
       "       'bravo_minor_name_406', 'bravo_minor_name_407',\n",
       "       'bravo_minor_name_408', 'bravo_minor_name_409',\n",
       "       'bravo_minor_name_410', 'bravo_minor_name_411',\n",
       "       'bravo_minor_name_412', 'bravo_minor_name_413'], dtype=object)"
      ]
     },
     "execution_count": 12,
     "metadata": {},
     "output_type": "execute_result"
    }
   ],
   "source": [
    "product_df[\"bravo_minor_name\"].unique()"
   ]
  },
  {
   "cell_type": "code",
   "execution_count": 13,
   "id": "82e2062a",
   "metadata": {},
   "outputs": [
    {
     "data": {
      "text/plain": [
       "array(['product_code_0', 'product_code_1', 'product_code_2', ...,\n",
       "       'product_code_24690', 'product_code_24691', 'product_code_24692'],\n",
       "      dtype=object)"
      ]
     },
     "execution_count": 13,
     "metadata": {},
     "output_type": "execute_result"
    }
   ],
   "source": [
    "product_df[\"product_code\"].unique()"
   ]
  },
  {
   "cell_type": "markdown",
   "id": "70a3d9a7",
   "metadata": {},
   "source": [
    "# Explorar Stock DF"
   ]
  },
  {
   "cell_type": "code",
   "execution_count": 22,
   "id": "651ac3aa",
   "metadata": {},
   "outputs": [
    {
     "name": "stdout",
     "output_type": "stream",
     "text": [
      "<class 'pandas.core.frame.DataFrame'>\n",
      "RangeIndex: 5199686 entries, 0 to 5199685\n",
      "Data columns (total 7 columns):\n",
      " #   Column                Dtype  \n",
      "---  ------                -----  \n",
      " 0   country_code          object \n",
      " 1   cac                   object \n",
      " 2   product_code          object \n",
      " 3   month_code            float64\n",
      " 4   invoiced_sales        object \n",
      " 5   volume_primary_units  object \n",
      " 6   inventory_cost        object \n",
      "dtypes: float64(1), object(6)\n",
      "memory usage: 277.7+ MB\n"
     ]
    }
   ],
   "source": [
    "stock_df.info()"
   ]
  },
  {
   "cell_type": "code",
   "execution_count": 14,
   "id": "77925eed",
   "metadata": {},
   "outputs": [
    {
     "data": {
      "text/html": [
       "<div>\n",
       "<style scoped>\n",
       "    .dataframe tbody tr th:only-of-type {\n",
       "        vertical-align: middle;\n",
       "    }\n",
       "\n",
       "    .dataframe tbody tr th {\n",
       "        vertical-align: top;\n",
       "    }\n",
       "\n",
       "    .dataframe thead th {\n",
       "        text-align: right;\n",
       "    }\n",
       "</style>\n",
       "<table border=\"1\" class=\"dataframe\">\n",
       "  <thead>\n",
       "    <tr style=\"text-align: right;\">\n",
       "      <th></th>\n",
       "      <th>country_code</th>\n",
       "      <th>cac</th>\n",
       "      <th>product_code</th>\n",
       "      <th>month_code</th>\n",
       "      <th>invoiced_sales</th>\n",
       "      <th>volume_primary_units</th>\n",
       "      <th>inventory_cost</th>\n",
       "    </tr>\n",
       "  </thead>\n",
       "  <tbody>\n",
       "    <tr>\n",
       "      <th>0</th>\n",
       "      <td>country_code_0</td>\n",
       "      <td>cac_0</td>\n",
       "      <td>product_code_0</td>\n",
       "      <td>190001.0</td>\n",
       "      <td>0</td>\n",
       "      <td>0</td>\n",
       "      <td>0</td>\n",
       "    </tr>\n",
       "    <tr>\n",
       "      <th>1</th>\n",
       "      <td>country_code_0</td>\n",
       "      <td>cac_0</td>\n",
       "      <td>product_code_1</td>\n",
       "      <td>190001.0</td>\n",
       "      <td>0</td>\n",
       "      <td>0</td>\n",
       "      <td>0</td>\n",
       "    </tr>\n",
       "    <tr>\n",
       "      <th>2</th>\n",
       "      <td>country_code_0</td>\n",
       "      <td>cac_0</td>\n",
       "      <td>product_code_2</td>\n",
       "      <td>190001.0</td>\n",
       "      <td>0</td>\n",
       "      <td>0</td>\n",
       "      <td>0</td>\n",
       "    </tr>\n",
       "    <tr>\n",
       "      <th>3</th>\n",
       "      <td>country_code_0</td>\n",
       "      <td>cac_0</td>\n",
       "      <td>product_code_3</td>\n",
       "      <td>190001.0</td>\n",
       "      <td>0</td>\n",
       "      <td>0</td>\n",
       "      <td>0</td>\n",
       "    </tr>\n",
       "    <tr>\n",
       "      <th>4</th>\n",
       "      <td>country_code_0</td>\n",
       "      <td>cac_0</td>\n",
       "      <td>product_code_4</td>\n",
       "      <td>190001.0</td>\n",
       "      <td>0</td>\n",
       "      <td>0</td>\n",
       "      <td>0</td>\n",
       "    </tr>\n",
       "  </tbody>\n",
       "</table>\n",
       "</div>"
      ],
      "text/plain": [
       "     country_code    cac    product_code  month_code invoiced_sales  \\\n",
       "0  country_code_0  cac_0  product_code_0    190001.0              0   \n",
       "1  country_code_0  cac_0  product_code_1    190001.0              0   \n",
       "2  country_code_0  cac_0  product_code_2    190001.0              0   \n",
       "3  country_code_0  cac_0  product_code_3    190001.0              0   \n",
       "4  country_code_0  cac_0  product_code_4    190001.0              0   \n",
       "\n",
       "  volume_primary_units inventory_cost  \n",
       "0                    0              0  \n",
       "1                    0              0  \n",
       "2                    0              0  \n",
       "3                    0              0  \n",
       "4                    0              0  "
      ]
     },
     "execution_count": 14,
     "metadata": {},
     "output_type": "execute_result"
    }
   ],
   "source": [
    "stock_df.head()"
   ]
  },
  {
   "cell_type": "markdown",
   "id": "3319ce34",
   "metadata": {},
   "source": [
    "### Descrição dos campos\n",
    "\n",
    "<p> country_code – Code of the country <p/>\n",
    "<p> cac – customer <p/>\n",
    "<p> product_code – product sold <p/>\n",
    "<p> month_code – year and month of the sale <p/>\n",
    "<p> currency_code - currency <p/>\n",
    "<p> invoiced_sales - sales <p/>\n",
    "<p> volume_primary_units – number of sold units <p/>\n",
    "<p> inventory_cost – cost of the product for the company (unitary cost multiplied by volume)"
   ]
  },
  {
   "cell_type": "code",
   "execution_count": 17,
   "id": "9cbf7820",
   "metadata": {},
   "outputs": [
    {
     "data": {
      "text/plain": [
       "array(['country_code_0', 'country_code_1', 'country_code_2',\n",
       "       'country_code_3'], dtype=object)"
      ]
     },
     "execution_count": 17,
     "metadata": {},
     "output_type": "execute_result"
    }
   ],
   "source": [
    "stock_df[\"country_code\"].unique()"
   ]
  },
  {
   "cell_type": "code",
   "execution_count": 18,
   "id": "3cd8f3a1",
   "metadata": {},
   "outputs": [
    {
     "data": {
      "text/plain": [
       "array(['cac_0', 'cac_1', 'cac_2', ..., 'cac_10029', 'cac_10030',\n",
       "       'cac_10031'], dtype=object)"
      ]
     },
     "execution_count": 18,
     "metadata": {},
     "output_type": "execute_result"
    }
   ],
   "source": [
    "stock_df[\"cac\"].unique()"
   ]
  },
  {
   "cell_type": "code",
   "execution_count": 19,
   "id": "e1190213",
   "metadata": {},
   "outputs": [
    {
     "data": {
      "text/plain": [
       "array(['product_code_0', 'product_code_1', 'product_code_2', ...,\n",
       "       'product_code_57983', 'product_code_57984', 'product_code_57985'],\n",
       "      dtype=object)"
      ]
     },
     "execution_count": 19,
     "metadata": {},
     "output_type": "execute_result"
    }
   ],
   "source": [
    "stock_df[\"product_code\"].unique()"
   ]
  },
  {
   "cell_type": "code",
   "execution_count": 20,
   "id": "e092b27c",
   "metadata": {},
   "outputs": [
    {
     "data": {
      "text/plain": [
       "array([190001., 201804., 201906., 201902., 201812., 201807., 201905.,\n",
       "       201805., 201802., 201901., 201808., 201903., 201907., 201806.,\n",
       "       201811., 201803., 201810., 201904., 201801., 201809.,     nan])"
      ]
     },
     "execution_count": 20,
     "metadata": {},
     "output_type": "execute_result"
    }
   ],
   "source": [
    "stock_df[\"month_code\"].unique()"
   ]
  },
  {
   "cell_type": "code",
   "execution_count": 26,
   "id": "1ed91840",
   "metadata": {},
   "outputs": [
    {
     "data": {
      "text/html": [
       "<div>\n",
       "<style scoped>\n",
       "    .dataframe tbody tr th:only-of-type {\n",
       "        vertical-align: middle;\n",
       "    }\n",
       "\n",
       "    .dataframe tbody tr th {\n",
       "        vertical-align: top;\n",
       "    }\n",
       "\n",
       "    .dataframe thead th {\n",
       "        text-align: right;\n",
       "    }\n",
       "</style>\n",
       "<table border=\"1\" class=\"dataframe\">\n",
       "  <thead>\n",
       "    <tr style=\"text-align: right;\">\n",
       "      <th></th>\n",
       "      <th>country_code</th>\n",
       "      <th>cac</th>\n",
       "      <th>product_code</th>\n",
       "      <th>month_code</th>\n",
       "      <th>invoiced_sales</th>\n",
       "      <th>volume_primary_units</th>\n",
       "      <th>inventory_cost</th>\n",
       "    </tr>\n",
       "  </thead>\n",
       "  <tbody>\n",
       "    <tr>\n",
       "      <th>1980403</th>\n",
       "      <td>country_code_1</td>\n",
       "      <td>cac_3010</td>\n",
       "      <td>product_code_551</td>\n",
       "      <td>201905.0</td>\n",
       "      <td>9999,84</td>\n",
       "      <td>24</td>\n",
       "      <td>3983,2686461240546</td>\n",
       "    </tr>\n",
       "    <tr>\n",
       "      <th>1905586</th>\n",
       "      <td>country_code_1</td>\n",
       "      <td>cac_3010</td>\n",
       "      <td>product_code_551</td>\n",
       "      <td>201811.0</td>\n",
       "      <td>9999,84</td>\n",
       "      <td>24</td>\n",
       "      <td>3983,2686461240546</td>\n",
       "    </tr>\n",
       "    <tr>\n",
       "      <th>1929853</th>\n",
       "      <td>country_code_1</td>\n",
       "      <td>cac_3010</td>\n",
       "      <td>product_code_551</td>\n",
       "      <td>201804.0</td>\n",
       "      <td>9999,84</td>\n",
       "      <td>24</td>\n",
       "      <td>3983,2686461240546</td>\n",
       "    </tr>\n",
       "    <tr>\n",
       "      <th>3315358</th>\n",
       "      <td>country_code_3</td>\n",
       "      <td>cac_5799</td>\n",
       "      <td>product_code_9591</td>\n",
       "      <td>201903.0</td>\n",
       "      <td>9999,5</td>\n",
       "      <td>840</td>\n",
       "      <td>3862,069091567697</td>\n",
       "    </tr>\n",
       "    <tr>\n",
       "      <th>3976971</th>\n",
       "      <td>country_code_2</td>\n",
       "      <td>cac_7457</td>\n",
       "      <td>product_code_17947</td>\n",
       "      <td>201801.0</td>\n",
       "      <td>9999</td>\n",
       "      <td>2</td>\n",
       "      <td>0,02</td>\n",
       "    </tr>\n",
       "    <tr>\n",
       "      <th>...</th>\n",
       "      <td>...</td>\n",
       "      <td>...</td>\n",
       "      <td>...</td>\n",
       "      <td>...</td>\n",
       "      <td>...</td>\n",
       "      <td>...</td>\n",
       "      <td>...</td>\n",
       "    </tr>\n",
       "    <tr>\n",
       "      <th>2647230</th>\n",
       "      <td>country_code_2</td>\n",
       "      <td>cac_4383</td>\n",
       "      <td>product_code_18057</td>\n",
       "      <td>201809.0</td>\n",
       "      <td>-0,00000000000000088818</td>\n",
       "      <td>0</td>\n",
       "      <td>0,00000000000000710543</td>\n",
       "    </tr>\n",
       "    <tr>\n",
       "      <th>2485824</th>\n",
       "      <td>country_code_0</td>\n",
       "      <td>cac_4092</td>\n",
       "      <td>product_code_688</td>\n",
       "      <td>201802.0</td>\n",
       "      <td>-0,00000000000000088818</td>\n",
       "      <td>0</td>\n",
       "      <td>0</td>\n",
       "    </tr>\n",
       "    <tr>\n",
       "      <th>3741020</th>\n",
       "      <td>country_code_3</td>\n",
       "      <td>cac_6652</td>\n",
       "      <td>product_code_4434</td>\n",
       "      <td>201803.0</td>\n",
       "      <td>-0,00000000000000044409</td>\n",
       "      <td>0</td>\n",
       "      <td>0</td>\n",
       "    </tr>\n",
       "    <tr>\n",
       "      <th>19992</th>\n",
       "      <td>country_code_0</td>\n",
       "      <td>cac_48</td>\n",
       "      <td>product_code_492</td>\n",
       "      <td>201903.0</td>\n",
       "      <td>-0,00000000000000044409</td>\n",
       "      <td>0</td>\n",
       "      <td>0</td>\n",
       "    </tr>\n",
       "    <tr>\n",
       "      <th>5199685</th>\n",
       "      <td>country_code_3</td>\n",
       "      <td>cac_9501</td>\n",
       "      <td>product_code_57985</td>\n",
       "      <td>NaN</td>\n",
       "      <td>NaN</td>\n",
       "      <td>NaN</td>\n",
       "      <td>NaN</td>\n",
       "    </tr>\n",
       "  </tbody>\n",
       "</table>\n",
       "<p>5199686 rows × 7 columns</p>\n",
       "</div>"
      ],
      "text/plain": [
       "           country_code       cac        product_code  month_code  \\\n",
       "1980403  country_code_1  cac_3010    product_code_551    201905.0   \n",
       "1905586  country_code_1  cac_3010    product_code_551    201811.0   \n",
       "1929853  country_code_1  cac_3010    product_code_551    201804.0   \n",
       "3315358  country_code_3  cac_5799   product_code_9591    201903.0   \n",
       "3976971  country_code_2  cac_7457  product_code_17947    201801.0   \n",
       "...                 ...       ...                 ...         ...   \n",
       "2647230  country_code_2  cac_4383  product_code_18057    201809.0   \n",
       "2485824  country_code_0  cac_4092    product_code_688    201802.0   \n",
       "3741020  country_code_3  cac_6652   product_code_4434    201803.0   \n",
       "19992    country_code_0    cac_48    product_code_492    201903.0   \n",
       "5199685  country_code_3  cac_9501  product_code_57985         NaN   \n",
       "\n",
       "                  invoiced_sales volume_primary_units          inventory_cost  \n",
       "1980403                  9999,84                   24      3983,2686461240546  \n",
       "1905586                  9999,84                   24      3983,2686461240546  \n",
       "1929853                  9999,84                   24      3983,2686461240546  \n",
       "3315358                   9999,5                  840       3862,069091567697  \n",
       "3976971                     9999                    2                    0,02  \n",
       "...                          ...                  ...                     ...  \n",
       "2647230  -0,00000000000000088818                    0  0,00000000000000710543  \n",
       "2485824  -0,00000000000000088818                    0                       0  \n",
       "3741020  -0,00000000000000044409                    0                       0  \n",
       "19992    -0,00000000000000044409                    0                       0  \n",
       "5199685                      NaN                  NaN                     NaN  \n",
       "\n",
       "[5199686 rows x 7 columns]"
      ]
     },
     "execution_count": 26,
     "metadata": {},
     "output_type": "execute_result"
    }
   ],
   "source": [
    "stock_df.sort_values(by = \"invoiced_sales\", axis = 0, ascending = False)"
   ]
  },
  {
   "cell_type": "markdown",
   "id": "caeb823f",
   "metadata": {},
   "source": [
    "## Tratar Stock DF"
   ]
  },
  {
   "cell_type": "code",
   "execution_count": null,
   "id": "6befe1c1",
   "metadata": {},
   "outputs": [],
   "source": []
  }
 ],
 "metadata": {
  "kernelspec": {
   "display_name": "Python 3 (ipykernel)",
   "language": "python",
   "name": "python3"
  },
  "language_info": {
   "codemirror_mode": {
    "name": "ipython",
    "version": 3
   },
   "file_extension": ".py",
   "mimetype": "text/x-python",
   "name": "python",
   "nbconvert_exporter": "python",
   "pygments_lexer": "ipython3",
   "version": "3.9.7"
  }
 },
 "nbformat": 4,
 "nbformat_minor": 5
}
